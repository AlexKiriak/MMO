{
 "cells": [
  {
   "cell_type": "code",
   "execution_count": 16,
   "metadata": {},
   "outputs": [],
   "source": [
    "from pulp import LpMaximize, LpProblem, LpStatus, lpSum, LpVariable"
   ]
  },
  {
   "cell_type": "markdown",
   "metadata": {},
   "source": [
    "# Production problem"
   ]
  },
  {
   "cell_type": "code",
   "execution_count": 17,
   "metadata": {},
   "outputs": [],
   "source": [
    "# Initialize model named Production Problem and specify maximization problem type\n",
    "model = LpProblem(name=\"Production_Problem\", sense=LpMaximize)"
   ]
  },
  {
   "cell_type": "code",
   "execution_count": 18,
   "metadata": {},
   "outputs": [],
   "source": [
    "# Initialize variables\n",
    "# The variables are integer since we cannot have float number of products\n",
    "x1 = LpVariable(name='x1', lowBound=0, cat='Integer')\n",
    "x2 = LpVariable(name='x2', lowBound=0, cat='Integer')\n",
    "x3 = LpVariable(name='x3', lowBound=0, cat='Integer')\n",
    "x4 = LpVariable(name='x4', lowBound=0, cat='Integer')\n",
    "x5 = LpVariable(name='x5', lowBound=0, cat='Integer')\n",
    "\n",
    "# Specify inequalities\n",
    "model += (1 * x1 + 2 * x2 + 6 * x3 + 8 * x4 + 10 * x5 <= 2500)\n",
    "model += (1 * x1 + 2 * x2 + 2 * x3 + 4 * x4 + 8 * x5 <= 1200)\n",
    "model += (1 * x1 + 3 * x2 + 1 * x3 + 2 * x4 + 4 * x5 <= 720)\n",
    "model += (1 * x1 + 2 * x2 + 1 * x3 + 2 * x4 + 2 * x5 <= 620)\n",
    "model += (1 * x1 + 2 * x2 + 8 * x3 + 12 * x4 + 15 * x5 <= 3400)\n",
    "\n",
    "# Identify object function (z)\n",
    "obj_func = 90 * x1 + 180 * x2 + 250 * x3 + 370 * x4 + 540 * x5\n",
    "model += obj_func"
   ]
  },
  {
   "cell_type": "code",
   "execution_count": 19,
   "metadata": {},
   "outputs": [
    {
     "data": {
      "text/plain": [
       "Production_Problem:\n",
       "MAXIMIZE\n",
       "90*x1 + 180*x2 + 250*x3 + 370*x4 + 540*x5 + 0\n",
       "SUBJECT TO\n",
       "_C1: x1 + 2 x2 + 6 x3 + 8 x4 + 10 x5 <= 2500\n",
       "\n",
       "_C2: x1 + 2 x2 + 2 x3 + 4 x4 + 8 x5 <= 1200\n",
       "\n",
       "_C3: x1 + 3 x2 + x3 + 2 x4 + 4 x5 <= 720\n",
       "\n",
       "_C4: x1 + 2 x2 + x3 + 2 x4 + 2 x5 <= 620\n",
       "\n",
       "_C5: x1 + 2 x2 + 8 x3 + 12 x4 + 15 x5 <= 3400\n",
       "\n",
       "VARIABLES\n",
       "0 <= x1 Integer\n",
       "0 <= x2 Integer\n",
       "0 <= x3 Integer\n",
       "0 <= x4 Integer\n",
       "0 <= x5 Integer"
      ]
     },
     "execution_count": 19,
     "metadata": {},
     "output_type": "execute_result"
    }
   ],
   "source": [
    "# Check the model\n",
    "model"
   ]
  },
  {
   "cell_type": "code",
   "execution_count": 20,
   "metadata": {},
   "outputs": [],
   "source": [
    "# Solve the problem\n",
    "status = model.solve()"
   ]
  },
  {
   "cell_type": "code",
   "execution_count": 21,
   "metadata": {},
   "outputs": [
    {
     "name": "stdout",
     "output_type": "stream",
     "text": [
      "status: 1, Optimal\n"
     ]
    }
   ],
   "source": [
    "# Display problem status\n",
    "print(f\"status: {model.status}, {LpStatus[model.status]}\")"
   ]
  },
  {
   "cell_type": "code",
   "execution_count": 22,
   "metadata": {},
   "outputs": [
    {
     "name": "stdout",
     "output_type": "stream",
     "text": [
      "objective: 120740.0\n"
     ]
    }
   ],
   "source": [
    "# Display objective (max profit)\n",
    "print(f\"objective: {model.objective.value()}\")"
   ]
  },
  {
   "cell_type": "code",
   "execution_count": 23,
   "metadata": {
    "scrolled": true
   },
   "outputs": [
    {
     "name": "stdout",
     "output_type": "stream",
     "text": [
      "x1: 208.0\n",
      "x2: 8.0\n",
      "x3: 300.0\n",
      "x4: 2.0\n",
      "x5: 46.0\n"
     ]
    }
   ],
   "source": [
    "# Display the variables\n",
    "for var in model.variables():\n",
    "    print(f\"{var.name}: {var.value()}\")"
   ]
  },
  {
   "cell_type": "markdown",
   "metadata": {},
   "source": [
    "# Diet problem"
   ]
  },
  {
   "cell_type": "code",
   "execution_count": 24,
   "metadata": {},
   "outputs": [],
   "source": [
    "model = LpProblem(name=\"Diet_Problem\")"
   ]
  },
  {
   "cell_type": "code",
   "execution_count": 25,
   "metadata": {},
   "outputs": [],
   "source": [
    "# Initialize variables\n",
    "# The variables are integer since we cannot have float number of products\n",
    "x1 = LpVariable(name='x1', lowBound=0, cat='Integer')\n",
    "x2 = LpVariable(name='x2', lowBound=0, cat='Integer')\n",
    "x3 = LpVariable(name='x3', lowBound=0, cat='Integer')\n",
    "x4 = LpVariable(name='x4', lowBound=0, cat='Integer')\n",
    "x5 = LpVariable(name='x5', lowBound=0, cat='Integer')\n",
    "\n",
    "# Specify inequalities\n",
    "model += (2 * x1 + 3 * x2 + 4 * x3 + 4 * x4 + 2 * x5 >= 20)\n",
    "model += (1 * x1 + 2 * x2 + 3 * x3 + 3 * x4 + 0 * x5 >= 12)\n",
    "model += (0 * x1 + 0 * x2 + 0 * x3 + 0 * x4 + 4 * x5 >= 6)\n",
    "model += (3 * x1 + 4 * x2 + 0 * x3 + 0 * x4 + 0 * x5 >= 5)\n",
    "model += (0 * x1 + 0 * x2 + 2 * x3 + 0 * x4 + 2 * x5 >= 5)\n",
    "model += (x1 >= 1)\n",
    "model += (x2 >= 1)\n",
    "model += (x3 >= 1)\n",
    "model += (x4 >= 1)\n",
    "model += (x5 >= 1)\n",
    "\n",
    "\n",
    "# Identify object function (z)\n",
    "obj_func = 4 * x1 + 6 * x2 + 3 * x3 + 3 * x4 + 2 * x5\n",
    "model += obj_func"
   ]
  },
  {
   "cell_type": "code",
   "execution_count": 26,
   "metadata": {},
   "outputs": [
    {
     "data": {
      "text/plain": [
       "Diet_Problem:\n",
       "MINIMIZE\n",
       "4*x1 + 6*x2 + 3*x3 + 3*x4 + 2*x5 + 0\n",
       "SUBJECT TO\n",
       "_C1: 2 x1 + 3 x2 + 4 x3 + 4 x4 + 2 x5 >= 20\n",
       "\n",
       "_C2: x1 + 2 x2 + 3 x3 + 3 x4 >= 12\n",
       "\n",
       "_C3: 4 x5 >= 6\n",
       "\n",
       "_C4: 3 x1 + 4 x2 >= 5\n",
       "\n",
       "_C5: 2 x3 + 2 x5 >= 5\n",
       "\n",
       "_C6: x1 >= 1\n",
       "\n",
       "_C7: x2 >= 1\n",
       "\n",
       "_C8: x3 >= 1\n",
       "\n",
       "_C9: x4 >= 1\n",
       "\n",
       "_C10: x5 >= 1\n",
       "\n",
       "VARIABLES\n",
       "0 <= x1 Integer\n",
       "0 <= x2 Integer\n",
       "0 <= x3 Integer\n",
       "0 <= x4 Integer\n",
       "0 <= x5 Integer"
      ]
     },
     "execution_count": 26,
     "metadata": {},
     "output_type": "execute_result"
    }
   ],
   "source": [
    "# Check the model\n",
    "model"
   ]
  },
  {
   "cell_type": "code",
   "execution_count": 27,
   "metadata": {},
   "outputs": [],
   "source": [
    "# Solve the problem\n",
    "status = model.solve()"
   ]
  },
  {
   "cell_type": "code",
   "execution_count": 28,
   "metadata": {},
   "outputs": [
    {
     "name": "stdout",
     "output_type": "stream",
     "text": [
      "status: 1, Optimal\n"
     ]
    }
   ],
   "source": [
    "# Display problem status\n",
    "print(f\"status: {model.status}, {LpStatus[model.status]}\")"
   ]
  },
  {
   "cell_type": "code",
   "execution_count": 29,
   "metadata": {},
   "outputs": [
    {
     "name": "stdout",
     "output_type": "stream",
     "text": [
      "objective: 23.0\n"
     ]
    }
   ],
   "source": [
    "# Display objective (min cost)\n",
    "print(f\"objective: {model.objective.value()}\")"
   ]
  },
  {
   "cell_type": "code",
   "execution_count": 30,
   "metadata": {},
   "outputs": [
    {
     "name": "stdout",
     "output_type": "stream",
     "text": [
      "x1: 1.0\n",
      "x2: 1.0\n",
      "x3: 2.0\n",
      "x4: 1.0\n",
      "x5: 2.0\n"
     ]
    }
   ],
   "source": [
    "# Display the variables\n",
    "for var in model.variables():\n",
    "    print(f\"{var.name}: {var.value()}\")"
   ]
  }
 ],
 "metadata": {
  "kernelspec": {
   "display_name": "Python 3",
   "language": "python",
   "name": "python3"
  },
  "language_info": {
   "codemirror_mode": {
    "name": "ipython",
    "version": 3
   },
   "file_extension": ".py",
   "mimetype": "text/x-python",
   "name": "python",
   "nbconvert_exporter": "python",
   "pygments_lexer": "ipython3",
   "version": "3.8.5"
  }
 },
 "nbformat": 4,
 "nbformat_minor": 4
}
